{
 "cells": [
  {
   "cell_type": "code",
   "execution_count": 4,
   "metadata": {},
   "outputs": [
    {
     "data": {
      "text/plain": [
       "100"
      ]
     },
     "execution_count": 4,
     "metadata": {},
     "output_type": "execute_result"
    }
   ],
   "source": [
    "prob=[[1 for j in range(10)] for i in range(10)]\n",
    "sum(sum(i) for i in prob)"
   ]
  },
  {
   "cell_type": "code",
   "execution_count": 5,
   "metadata": {},
   "outputs": [
    {
     "data": {
      "text/plain": [
       "0"
      ]
     },
     "execution_count": 5,
     "metadata": {},
     "output_type": "execute_result"
    }
   ],
   "source": [
    "min(i for i in range(10))"
   ]
  },
  {
   "cell_type": "code",
   "execution_count": 3,
   "metadata": {},
   "outputs": [
    {
     "name": "stdout",
     "output_type": "stream",
     "text": [
      "_O_ _L_ _K_ _G_ _B_ _G_ _M_ _Y_ _P_ _R_ _L_ _O_ _F_ _R_ _Y_ _Y_ _P_ _R_ _M_ _O_ _F_ _Y_ _M_ _B_ _F_ _K_ _Y_ _T_ _G_ _Y_ _R_ _L_ _G_ _R_ _B_ _B_ _Y_ _L_ _T_ _R_ _K_ _O_ _B_ _O_ _G_ _O_ _L_ _O_ _F_ _B_ \n",
      "_B_ _K_ _Y_ _G_ _M_ _Y_ _P_ _R_ _Y_ _P_ _T_ _M_ _K_ _P_ _B_ _L_ _M_ _G_ _R_ _M_ _O_ _F_ _R_ _P_ _R_ _O_ _B_ _G_ _G_ _T_ _G_ _O_ _K_ _Y_ _M_ _L_ _M_ _F_ _Y_ _T_ _B_ _B_ _O_ _B_ _F_ _G_ _G_ _L_ _O_ _K_ \n",
      "_F_ _F_ _F_ _K_ _B_ _L_ _K_ _G_ _T_ _L_ _P_ _T_ _B_ _F_ _R_ _M_ _G_ _M_ _L_ _G_ _O_ _L_ _G_ _R_ _M_ _T_ _B_ _T_ _B_ _G_ _B_ _T_ _F_ _F_ _F_ _B_ _T_ _F_ _L_ _B_ _F_ _L_ _Y_ _M_ _O_ _P_ _Y_ _P_ _G_ _P_ \n",
      "_T_ _R_ _L_ _O_ _M_ _F_ _O_ _G_ _O_ _P_ _B_ _T_ _G_ _L_ _R_ _B_ _M_ _Y_ _P_ _M_ _L_ _F_ _O_ _T_ _Y_ _B_ _K_ _K_ _O_ _T_ _M_ _Y_ _Y_ _F_ _F_ _O_ _R_ _P_ _O_ _B_ _G_ _B_ _M_ _M_ _O_ _Y_ _O_ _P_ _M_ _M_ \n",
      "_G_ _T_ _M_ _Y_ _O_ _F_ _Y_ _G_ _G_ _M_ _B_ _B_ _K_ _T_ _B_ _T_ _B_ _B_ _R_ _K_ _L_ _Y_ _T_ _F_ _T_ _M_ _K_ _Y_ _M_ _K_ _P_ _F_ _G_ _O_ _P_ _P_ _P_ _T_ _G_ _L_ _L_ _O_ _P_ _K_ _Y_ _K_ _B_ _L_ _O_ _B_ \n",
      "_Y_ _R_ _K_ _P_ _P_ _F_ _L_ _K_ _G_ _R_ _P_ _G_ _B_ _T_ _M_ _Y_ _F_ _B_ _K_ _Y_ _L_ _T_ _P_ _F_ _G_ _Y_ _L_ _M_ _F_ _F_ _B_ _G_ _O_ _Y_ _G_ _O_ _T_ _Y_ _P_ _M_ _G_ _T_ _M_ _F_ _L_ _L_ _P_ _G_ _L_ _K_ \n",
      "_F_ _R_ _F_ _P_ _K_ _Y_ _Y_ _O_ _P_ _O_ _G_ _R_ _T_ _G_ _P_ _B_ _O_ _O_ _T_ _M_ _P_ _L_ _P_ _P_ _L_ _B_ _R_ _T_ _K_ _B_ _F_ _T_ _T_ _K_ _G_ _T_ _Y_ _K_ _B_ _F_ _Y_ _B_ _Y_ _B_ _L_ _T_ _T_ _F_ _G_ _F_ \n",
      "_M_ _Y_ _F_ _R_ _P_ _K_ _F_ _R_ _T_ _P_ _T_ _M_ _Y_ _O_ _P_ _G_ _L_ _K_ _R_ _B_ _P_ _G_ _P_ _B_ _G_ _B_ _K_ _M_ _M_ _B_ _G_ _L_ _T_ _G_ _K_ _Y_ _T_ _P_ _B_ _B_ _R_ _K_ _K_ _Y_ _Y_ _O_ _R_ _R_ _R_ _M_ \n",
      "_F_ _O_ _P_ _R_ _L_ _P_ _T_ _F_ _O_ _O_ _L_ _L_ _L_ _L_ _Y_ _L_ _M_ _R_ _G_ _B_ _M_ _R_ _Y_ _Y_ _O_ _M_ _K_ _K_ _L_ _O_ _K_ _R_ _P_ _Y_ _P_ _T_ _P_ _G_ _O_ _L_ _G_ _K_ _T_ _T_ _L_ _Y_ _G_ _K_ _P_ _R_ \n",
      "_K_ _O_ _K_ _T_ _L_ _Y_ _B_ _Y_ _K_ _F_ _Y_ _O_ _K_ _R_ _P_ _R_ _M_ _G_ _G_ _O_ _G_ _B_ _K_ _B_ _Y_ _P_ _T_ _P_ _P_ _T_ _P_ _P_ _K_ _M_ _L_ _L_ _L_ _P_ _K_ _Y_ _B_ _B_ _K_ _Y_ _P_ _F_ _M_ _T_ _P_ _K_ \n",
      "_T_ _F_ _R_ _L_ _Y_ _T_ _G_ _F_ _M_ _M_ _T_ _F_ _K_ _F_ _L_ _F_ _P_ _R_ _L_ _R_ _G_ _P_ _O_ _T_ _T_ _M_ _G_ _P_ _G_ _T_ _R_ _G_ _M_ _K_ _K_ _M_ _L_ _O_ _G_ _M_ _P_ _M_ _T_ _G_ _O_ _G_ _P_ _B_ _Y_ _L_ \n",
      "_P_ _O_ _F_ _T_ _M_ _R_ _O_ _G_ _B_ _P_ _G_ _F_ _K_ _T_ _P_ _L_ _F_ _G_ _O_ _P_ _M_ _L_ _P_ _R_ _M_ _O_ _Y_ _G_ _T_ _Y_ _L_ _T_ _O_ _F_ _B_ _M_ _B_ _P_ _M_ _Y_ _O_ _Y_ _F_ _Y_ _F_ _B_ _R_ _Y_ _T_ _T_ \n",
      "_T_ _L_ _P_ _B_ _L_ _L_ _T_ _F_ _O_ _L_ _K_ _T_ _G_ _P_ _O_ _K_ _O_ _T_ _M_ _F_ _M_ _B_ _F_ _K_ _M_ _P_ _G_ _P_ _O_ _M_ _M_ _K_ _P_ _L_ _K_ _P_ _R_ _L_ _L_ _O_ _Y_ _M_ _B_ _G_ _Y_ _M_ _Y_ _M_ _F_ _O_ \n",
      "_B_ _Y_ _P_ _O_ _B_ _Y_ _K_ _T_ _T_ _G_ _T_ _F_ _B_ _T_ _K_ _P_ _G_ _Y_ _B_ _O_ _Y_ _O_ _Y_ _F_ _L_ _O_ _L_ _M_ _R_ _B_ _O_ _K_ _T_ _P_ _M_ _L_ _O_ _P_ _G_ _O_ _M_ _B_ _F_ _M_ _P_ _O_ _F_ _G_ _M_ _F_ \n",
      "_M_ _R_ _P_ _O_ _T_ _B_ _B_ _B_ _L_ _Y_ _Y_ _Y_ _M_ _Y_ _F_ _G_ _P_ _R_ _R_ _L_ _F_ _Y_ _G_ _R_ _T_ _P_ _L_ _L_ _L_ _L_ _B_ _T_ _O_ _T_ _R_ _F_ _P_ _P_ _P_ _M_ _B_ _O_ _K_ _G_ _F_ _P_ _R_ _G_ _K_ _O_ \n",
      "_B_ _R_ _G_ _R_ _G_ _R_ _L_ _F_ _L_ _K_ _B_ _T_ _L_ _Y_ _G_ _T_ _F_ _O_ _F_ _R_ _B_ _F_ _M_ _R_ _K_ _Y_ _T_ _M_ _P_ _T_ _T_ _R_ _P_ _P_ _R_ _R_ _L_ _O_ _O_ _O_ _L_ _F_ _B_ _O_ _M_ _T_ _G_ _O_ _M_ _K_ \n",
      "_T_ _R_ _G_ _Y_ _L_ _M_ _L_ _R_ _P_ _L_ _G_ _M_ _O_ _L_ _O_ _B_ _G_ _K_ _Y_ _R_ _P_ _G_ _G_ _L_ _F_ _F_ _F_ _P_ _P_ _R_ _X_ _P_ _K_ _Y_ _M_ _K_ _L_ _P_ _M_ _M_ _M_ _R_ _T_ _L_ _Y_ _R_ _K_ _M_ _L_ _M_ \n",
      "_Y_ _O_ _R_ _L_ _L_ _O_ _T_ _P_ _M_ _O_ _P_ _F_ _O_ _T_ _F_ _R_ _T_ _P_ _L_ _K_ _B_ _R_ _L_ _B_ _L_ _T_ _G_ _O_ _O_ _Y_ _F_ _Y_ _F_ _P_ _M_ _Y_ _K_ _F_ _R_ _M_ _R_ _Y_ _B_ _T_ _B_ _T_ _T_ _B_ _M_ _G_ \n",
      "_T_ _T_ _B_ _P_ _O_ _B_ _F_ _B_ _G_ _M_ _T_ _P_ _L_ _Y_ _R_ _B_ _R_ _P_ _Y_ _R_ _M_ _B_ _Y_ _Y_ _Y_ _L_ _K_ _R_ _F_ _O_ _R_ _L_ _G_ _M_ _K_ _R_ _O_ _O_ _T_ _F_ _L_ _L_ _M_ _G_ _G_ _F_ _P_ _M_ _R_ _G_ \n",
      "_Y_ _T_ _P_ _L_ _O_ _M_ _Y_ _B_ _G_ _B_ _M_ _G_ _B_ _P_ _P_ _L_ _O_ _L_ _B_ _Y_ _R_ _T_ _R_ _P_ _O_ _F_ _P_ _O_ _M_ _M_ _M_ _M_ _K_ _R_ _K_ _B_ _M_ _G_ _F_ _O_ _R_ _F_ _L_ _O_ _L_ _F_ _F_ _F_ _R_ _M_ \n",
      "_P_ _O_ _M_ _L_ _O_ _P_ _Y_ _T_ _O_ _M_ _O_ _B_ _Y_ _M_ _F_ _M_ _L_ _F_ _K_ _K_ _Y_ _T_ _K_ _K_ _O_ _R_ _R_ _G_ _P_ _G_ _O_ _B_ _P_ _T_ _K_ _P_ _K_ _G_ _Y_ _R_ _K_ _K_ _L_ _B_ _R_ _G_ _T_ _P_ _T_ _Y_ \n",
      "_B_ _T_ _B_ _O_ _P_ _K_ _K_ _B_ _K_ _F_ _M_ _R_ _L_ _P_ _G_ _T_ _T_ _K_ _B_ _T_ _G_ _F_ _L_ _L_ _B_ _G_ _L_ _T_ _O_ _K_ _G_ _M_ _P_ _G_ _T_ _R_ _G_ _B_ _M_ _Y_ _B_ _G_ _F_ _P_ _K_ _B_ _B_ _T_ _T_ _Y_ \n",
      "_L_ _L_ _F_ _L_ _Y_ _T_ _P_ _L_ _L_ _L_ _B_ _M_ _K_ _L_ _Y_ _M_ _Y_ _R_ _O_ _P_ _Y_ _G_ _F_ _P_ _R_ _K_ _M_ _L_ _T_ _B_ _B_ _L_ _R_ _T_ _T_ _L_ _L_ _P_ _M_ _G_ _O_ _T_ _F_ _L_ _P_ _G_ _L_ _Y_ _O_ _G_ \n",
      "_K_ _L_ _F_ _K_ _T_ _M_ _L_ _L_ _M_ _K_ _F_ _P_ _M_ _Y_ _P_ _T_ _R_ _F_ _R_ _O_ _T_ _B_ _R_ _G_ _K_ _L_ _O_ _K_ _L_ _Y_ _Y_ _O_ _R_ _F_ _K_ _M_ _F_ _B_ _P_ _L_ _L_ _Y_ _R_ _R_ _K_ _G_ _K_ _L_ _R_ _R_ \n",
      "_L_ _K_ _M_ _P_ _M_ _M_ _P_ _B_ _O_ _R_ _F_ _P_ _B_ _B_ _G_ _Y_ _M_ _P_ _Y_ _M_ _O_ _B_ _K_ _B_ _G_ _Y_ _B_ _L_ _F_ _T_ _T_ _M_ _Y_ _B_ _K_ _M_ _Y_ _F_ _L_ _R_ _G_ _O_ _R_ _L_ _K_ _T_ _B_ _G_ _Y_ _K_ \n",
      "_K_ _P_ _T_ _K_ _G_ _K_ _M_ _P_ _M_ _M_ _F_ _R_ _O_ _P_ _O_ _O_ _O_ _M_ _G_ _F_ _O_ _R_ _Y_ _K_ _P_ _P_ _T_ _R_ _K_ _M_ _R_ _P_ _P_ _F_ _T_ _M_ _G_ _O_ _K_ _R_ _R_ _B_ _B_ _K_ _R_ _M_ _K_ _P_ _F_ _M_ \n",
      "_T_ _G_ _T_ _B_ _F_ _G_ _T_ _M_ _G_ _G_ _K_ _R_ _L_ _T_ _L_ _F_ _K_ _P_ _Y_ _T_ _T_ _T_ _P_ _K_ _L_ _P_ _X_ _B_ _M_ _G_ _G_ _R_ _F_ _T_ _Y_ _F_ _K_ _G_ _R_ _T_ _P_ _F_ _T_ _Y_ _M_ _T_ _F_ _F_ _O_ _O_ \n",
      "_G_ _G_ _F_ _P_ _O_ _G_ _B_ _Y_ _L_ _T_ _G_ _T_ _T_ _O_ _B_ _G_ _F_ _B_ _L_ _F_ _T_ _L_ _Y_ _M_ _M_ _G_ _O_ _F_ _M_ _K_ _O_ _K_ _G_ _R_ _P_ _G_ _G_ _F_ _P_ _K_ _T_ _M_ _B_ _B_ _M_ _P_ _R_ _K_ _R_ _T_ \n",
      "_O_ _R_ _T_ _P_ _L_ _B_ _K_ _R_ _P_ _R_ _R_ _T_ _B_ _P_ _M_ _T_ _O_ _T_ _L_ _B_ _B_ _G_ _G_ _P_ _T_ _F_ _M_ _Y_ _R_ _P_ _M_ _T_ _Y_ _L_ _T_ _K_ _K_ _P_ _R_ _Y_ _O_ _L_ _F_ _P_ _L_ _Y_ _F_ _M_ _G_ _R_ \n",
      "_Y_ _M_ _M_ _P_ _O_ _O_ _R_ _P_ _Y_ _T_ _R_ _K_ _Y_ _K_ _P_ _M_ _F_ _K_ _T_ _G_ _P_ _F_ _Y_ _O_ _P_ _R_ _F_ _K_ _R_ _Y_ _O_ _B_ _K_ _K_ _R_ _P_ _G_ _R_ _B_ _Y_ _M_ _P_ _P_ _O_ _K_ _M_ _O_ _P_ _K_ _B_ \n",
      "_L_ _O_ _R_ _P_ _Y_ _K_ _R_ _G_ _T_ _M_ _R_ _L_ _T_ _T_ _F_ _B_ _F_ _B_ _T_ _P_ _Y_ _P_ _Y_ _R_ _G_ _L_ _O_ _K_ _G_ _Y_ _R_ _R_ _L_ _P_ _T_ _R_ _R_ _P_ _Y_ _Y_ _M_ _O_ _Y_ _B_ _B_ _L_ _G_ _K_ _K_ _M_ \n",
      "_G_ _O_ _M_ _Y_ _G_ _P_ _O_ _M_ _F_ _L_ _P_ _L_ _M_ _Y_ _G_ _T_ _R_ _R_ _O_ _Y_ _L_ _T_ _P_ _K_ _K_ _G_ _B_ _Y_ _K_ _G_ _F_ _L_ _O_ _B_ _G_ _L_ _G_ _Y_ _P_ _L_ _Y_ _T_ _L_ _K_ _R_ _M_ _L_ _T_ _K_ _O_ \n",
      "_R_ _K_ _B_ _T_ _Y_ _M_ _R_ _O_ _B_ _Y_ _L_ _L_ _B_ _L_ _F_ _L_ _P_ _T_ _L_ _Y_ _B_ _Y_ _K_ _K_ _T_ _P_ _K_ _M_ _B_ _F_ _Y_ _F_ _Y_ _F_ _O_ _M_ _P_ _Y_ _R_ _F_ _T_ _R_ _R_ _Y_ _R_ _B_ _F_ _L_ _B_ _T_ \n",
      "_P_ _M_ _O_ _O_ _L_ _M_ _G_ _R_ _L_ _L_ _O_ _M_ _L_ _P_ _O_ _B_ _T_ _G_ _B_ _G_ _K_ _K_ _F_ _R_ _R_ _Y_ _O_ _B_ _P_ _L_ _P_ _G_ _T_ _R_ _F_ _O_ _L_ _K_ _Y_ _T_ _O_ _Y_ _R_ _T_ _F_ _G_ _Y_ _P_ _R_ _K_ \n",
      "_F_ _Y_ _F_ _G_ _Y_ _O_ _T_ _F_ _P_ _Y_ _R_ _P_ _B_ _M_ _R_ _B_ _K_ _Y_ _T_ _Y_ _Y_ _F_ _O_ _O_ _P_ _F_ _R_ _M_ _Y_ _M_ _F_ _B_ _L_ _R_ _B_ _B_ _T_ _G_ _F_ _B_ _O_ _M_ _T_ _P_ _R_ _R_ _B_ _Y_ _Y_ _G_ \n",
      "_L_ _B_ _G_ _O_ _Y_ _P_ _O_ _P_ _K_ _P_ _M_ _L_ _M_ _M_ _P_ _P_ _T_ _Y_ _G_ _F_ _B_ _Y_ _B_ _B_ _G_ _M_ _K_ _K_ _Y_ _R_ _M_ _G_ _M_ _L_ _Y_ _T_ _O_ _P_ _M_ _F_ _O_ _B_ _F_ _O_ _Y_ _B_ _O_ _B_ _P_ _P_ \n",
      "_K_ _K_ _G_ _L_ _F_ _M_ _T_ _P_ _R_ _L_ _Y_ _K_ _K_ _M_ _O_ _P_ _B_ _F_ _Y_ _B_ _P_ _Y_ _G_ _B_ _G_ _R_ _G_ _O_ _L_ _R_ _P_ _G_ _Y_ _T_ _L_ _X_ _L_ _F_ _T_ _P_ _K_ _G_ _L_ _T_ _T_ _Y_ _L_ _Y_ _L_ _R_ \n",
      "_B_ _Y_ _L_ _G_ _L_ _G_ _M_ _O_ _K_ _P_ _B_ _Y_ _L_ _O_ _K_ _T_ _M_ _L_ _B_ _F_ _M_ _R_ _M_ _O_ _P_ _P_ _M_ _O_ _F_ _G_ _T_ _T_ _M_ _G_ _K_ _K_ _T_ _T_ _R_ _L_ _G_ _K_ _M_ _M_ _T_ _F_ _B_ _F_ _B_ _L_ \n",
      "_M_ _K_ _L_ _O_ _B_ _Y_ _F_ _L_ _B_ _O_ _Y_ _O_ _O_ _Y_ _M_ _P_ _O_ _M_ _R_ _R_ _L_ _L_ _K_ _R_ _Y_ _M_ _K_ _Y_ _O_ _L_ _L_ _L_ _P_ _G_ _B_ _K_ _L_ _P_ _K_ _R_ _M_ _R_ _O_ _Y_ _R_ _F_ _P_ _G_ _L_ _M_ \n",
      "_M_ _F_ _L_ _M_ _P_ _B_ _L_ _G_ _K_ _Y_ _O_ _F_ _O_ _K_ _G_ _K_ _P_ _Y_ _O_ _L_ _O_ _L_ _G_ _B_ _K_ _B_ _B_ _L_ _M_ _B_ _G_ _T_ _B_ _O_ _G_ _O_ _M_ _T_ _L_ _O_ _G_ _P_ _P_ _L_ _F_ _O_ _K_ _T_ _P_ _T_ \n",
      "_L_ _K_ _P_ _P_ _P_ _M_ _F_ _M_ _F_ _F_ _L_ _B_ _K_ _B_ _B_ _O_ _G_ _K_ _M_ _Y_ _O_ _M_ _F_ _T_ _Y_ _T_ _T_ _F_ _R_ _P_ _P_ _T_ _R_ _F_ _K_ _O_ _T_ _Y_ _Y_ _F_ _T_ _M_ _B_ _F_ _R_ _P_ _P_ _G_ _P_ _L_ \n",
      "_R_ _R_ _R_ _B_ _P_ _L_ _M_ _G_ _Y_ _B_ _T_ _G_ _T_ _K_ _O_ _G_ _P_ _B_ _T_ _B_ _O_ _L_ _Y_ _P_ _B_ _K_ _P_ _K_ _F_ _Y_ _B_ _M_ _R_ _F_ _F_ _K_ _G_ _M_ _K_ _P_ _R_ _Y_ _Y_ _P_ _K_ _Y_ _P_ _F_ _T_ _P_ \n",
      "_F_ _R_ _O_ _K_ _F_ _G_ _L_ _P_ _Y_ _O_ _B_ _B_ _L_ _B_ _O_ _R_ _M_ _L_ _M_ _B_ _G_ _G_ _T_ _P_ _O_ _L_ _G_ _Y_ _K_ _Y_ _P_ _B_ _R_ _B_ _L_ _Y_ _R_ _L_ _R_ _L_ _T_ _G_ _B_ _K_ _L_ _O_ _P_ _L_ _Y_ _Y_ \n",
      "_L_ _L_ _B_ _T_ _O_ _F_ _K_ _G_ _B_ _O_ _Y_ _O_ _Y_ _G_ _T_ _P_ _G_ _K_ _B_ _T_ _O_ _Y_ _O_ _B_ _K_ _R_ _T_ _F_ _R_ _F_ _B_ _R_ _R_ _F_ _T_ _B_ _F_ _P_ _B_ _O_ _K_ _F_ _O_ _Y_ _M_ _T_ _B_ _B_ _R_ _G_ \n",
      "_M_ _Y_ _P_ _L_ _L_ _K_ _L_ _O_ _T_ _G_ _Y_ _L_ _T_ _Y_ _G_ _P_ _P_ _K_ _G_ _G_ _O_ _B_ _M_ _B_ _L_ _K_ _F_ _O_ _R_ _K_ _T_ _B_ _R_ _P_ _P_ _K_ _M_ _Y_ _P_ _M_ _O_ _G_ _Y_ _K_ _T_ _O_ _M_ _M_ _R_ _F_ \n",
      "_O_ _Y_ _F_ _P_ _B_ _P_ _G_ _B_ _P_ _B_ _F_ _Y_ _M_ _T_ _F_ _L_ _M_ _G_ _G_ _Y_ _F_ _O_ _P_ _L_ _O_ _F_ _R_ _M_ _K_ _F_ _R_ _T_ _L_ _G_ _Y_ _G_ _L_ _M_ _P_ _K_ _G_ _M_ _O_ _B_ _M_ _B_ _R_ _K_ _O_ _M_ \n",
      "_K_ _F_ _L_ _K_ _G_ _O_ _G_ _T_ _F_ _L_ _R_ _O_ _Y_ _T_ _G_ _G_ _B_ _R_ _T_ _G_ _F_ _P_ _T_ _K_ _L_ _O_ _L_ _T_ _T_ _O_ _P_ _K_ _R_ _T_ _P_ _F_ _M_ _Y_ _L_ _K_ _B_ _B_ _T_ _T_ _B_ _R_ _K_ _B_ _P_ _P_ \n",
      "_K_ _G_ _G_ _K_ _K_ _K_ _T_ _M_ _O_ _O_ _P_ _G_ _Y_ _F_ _F_ _B_ _T_ _G_ _K_ _P_ _B_ _M_ _M_ _F_ _B_ _T_ _P_ _M_ _M_ _G_ _F_ _O_ _G_ _T_ _K_ _O_ _G_ _F_ _P_ _M_ _G_ _G_ _K_ _F_ _G_ _B_ _Y_ _P_ _O_ _G_ \n",
      "_O_ _M_ _R_ _O_ _G_ _T_ _F_ _L_ _G_ _R_ _M_ _M_ _L_ _K_ _O_ _O_ _R_ _L_ _P_ _M_ _F_ _K_ _O_ _L_ _G_ _B_ _P_ _P_ _O_ _B_ _K_ _M_ _B_ _G_ _F_ _M_ _B_ _K_ _Y_ _Y_ _T_ _T_ _R_ _T_ _B_ _P_ _L_ _L_ _T_ _F_ \n",
      "_B_ _K_ _G_ _M_ _P_ _T_ _M_ _M_ _F_ _R_ _G_ _Y_ _B_ _F_ _R_ _P_ _L_ _M_ _F_ _M_ _R_ _Y_ _K_ _T_ _L_ _B_ _F_ _F_ _P_ _M_ _K_ _K_ _K_ _R_ _K_ _T_ _O_ _B_ _G_ _K_ _K_ _K_ _L_ _P_ _O_ _K_ _F_ _L_ _M_ _P_ \n",
      "\n"
     ]
    }
   ],
   "source": [
    "# probando el mapa\n",
    "from map_csp import map\n",
    "mapa = map(10,10,['a','b','c'])\n",
    "\n",
    "\n",
    "\n"
   ]
  },
  {
   "cell_type": "code",
   "execution_count": null,
   "metadata": {},
   "outputs": [],
   "source": []
  }
 ],
 "metadata": {
  "kernelspec": {
   "display_name": "Python 3.10.6 64-bit",
   "language": "python",
   "name": "python3"
  },
  "language_info": {
   "codemirror_mode": {
    "name": "ipython",
    "version": 3
   },
   "file_extension": ".py",
   "mimetype": "text/x-python",
   "name": "python",
   "nbconvert_exporter": "python",
   "pygments_lexer": "ipython3",
   "version": "3.8.10"
  },
  "orig_nbformat": 4,
  "vscode": {
   "interpreter": {
    "hash": "916dbcbb3f70747c44a77c7bcd40155683ae19c65e1c03b4aa3499c5328201f1"
   }
  }
 },
 "nbformat": 4,
 "nbformat_minor": 2
}
